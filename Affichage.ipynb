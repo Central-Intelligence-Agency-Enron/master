{
 "metadata": {
  "language_info": {
   "codemirror_mode": {
    "name": "ipython",
    "version": 3
   },
   "file_extension": ".py",
   "mimetype": "text/x-python",
   "name": "python",
   "nbconvert_exporter": "python",
   "pygments_lexer": "ipython3",
   "version": 3
  },
  "orig_nbformat": 2
 },
 "nbformat": 4,
 "nbformat_minor": 2,
 "cells": [
  {
   "cell_type": "code",
   "execution_count": null,
   "metadata": {},
   "outputs": [],
   "source": [
    "import recup_mails\n",
    "import impression_graph2"
   ]
  },
  {
   "cell_type": "code",
   "execution_count": null,
   "metadata": {},
   "outputs": [],
   "source": [
    "liste_mots = [\"allege\", \"argentina\", \"brazil\", \"plaintiffs\", \"alleges\", \"defendants\", \"manhattan\", \"cooperating\", \"purported\", \"venezuela\", \"use\", \"none\", \"held\", \"paid\", \"about\", \"aggregate\", \"outstanding\", \"price\", \"taxes\", \"counterparties\", \"colombia\", \"seeks\", \"shares\", \"plan\", \"requirements\"]"
   ]
  },
  {
   "cell_type": "code",
   "execution_count": null,
   "metadata": {},
   "outputs": [],
   "source": [
    "recup_mails.recup_mails(liste_mots)"
   ]
  },
  {
   "cell_type": "code",
   "execution_count": null,
   "metadata": {},
   "outputs": [],
   "source": [
    "impression_graph2.impression_graph(liste_mots)"
   ]
  },
  {
   "cell_type": "code",
   "execution_count": null,
   "metadata": {},
   "outputs": [],
   "source": [
    "impression_graph2.impression_graph2(liste_mots)"
   ]
  }
 ]
}